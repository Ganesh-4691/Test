{
  "nbformat": 4,
  "nbformat_minor": 0,
  "metadata": {
    "colab": {
      "provenance": [],
      "gpuType": "T4",
      "authorship_tag": "ABX9TyMVB81ac3sJ6L4VIJAq398y",
      "include_colab_link": true
    },
    "kernelspec": {
      "name": "python3",
      "display_name": "Python 3"
    },
    "language_info": {
      "name": "python"
    },
    "accelerator": "GPU"
  },
  "cells": [
    {
      "cell_type": "markdown",
      "metadata": {
        "id": "view-in-github",
        "colab_type": "text"
      },
      "source": [
        "<a href=\"https://colab.research.google.com/github/Ganesh-4691/Test/blob/main/tensor.ipynb\" target=\"_parent\"><img src=\"https://colab.research.google.com/assets/colab-badge.svg\" alt=\"Open In Colab\"/></a>"
      ]
    },
    {
      "cell_type": "code",
      "execution_count": null,
      "metadata": {
        "colab": {
          "base_uri": "https://localhost:8080/"
        },
        "id": "I8wr_IkX5jdh",
        "outputId": "5f3f5d03-14cd-4e78-c4cc-11dd0d495dc0"
      },
      "outputs": [
        {
          "output_type": "stream",
          "name": "stdout",
          "text": [
            "tensor([[1, 2],\n",
            "        [3, 4]])\n",
            "tensor([[1, 1],\n",
            "        [1, 1]])\n",
            "tensor([[0.4618, 0.0583],\n",
            "        [0.5177, 0.3564]])\n",
            "stored:\n",
            "cpu\n",
            "\n"
          ]
        }
      ],
      "source": [
        "import torch\n",
        "import numpy as np\n",
        "data = [[1,2],[3,4]]\n",
        "x_data = torch.tensor(data)\n",
        "print(x_data)\n",
        "x_ones =  torch.ones_like(x_data)\n",
        "print(x_ones)\n",
        "x_random = torch.rand_like(x_data, dtype = torch.float)\n",
        "print(x_random)\n",
        "print (f\"stored:\\n{x_data.device}\\n\")\n"
      ]
    },
    {
      "cell_type": "code",
      "source": [
        "shape = (4,4)\n",
        "one_tensor = torch.ones(shape)\n",
        "rand_tensor = torch.rand(shape)\n",
        "if torch.cuda.is_available():\n",
        "  one_tensor = one_tensor.to(\"cuda\")\n",
        "  rand_tensor = rand_tensor.to(\"cuda\")\n",
        "  print(f\"first_column:{one_tensor[:, 0]}\")\n",
        "  print(f\"last_column:{rand_tensor[1,:]}\")\n",
        "  print(f\"random_tenosr:\\n{rand_tensor}\")\n"
      ],
      "metadata": {
        "colab": {
          "base_uri": "https://localhost:8080/"
        },
        "id": "n_IY8vCfBznw",
        "outputId": "ae24cec1-9a78-4320-b338-3d87d42328ac"
      },
      "execution_count": null,
      "outputs": [
        {
          "output_type": "stream",
          "name": "stdout",
          "text": [
            "first_column:tensor([1., 1., 1., 1.], device='cuda:0')\n",
            "last_column:tensor([0.0108, 0.3744, 0.2060, 0.4768], device='cuda:0')\n",
            "random_tenosr:\n",
            "tensor([[0.8047, 0.4458, 0.8981, 0.3148],\n",
            "        [0.0108, 0.3744, 0.2060, 0.4768],\n",
            "        [0.6677, 0.4978, 0.8912, 0.7996],\n",
            "        [0.3779, 0.2252, 0.2898, 0.5413]], device='cuda:0')\n"
          ]
        }
      ]
    },
    {
      "cell_type": "code",
      "source": [
        "t1 = torch.cat([one_tensor,rand_tensor], dim=1)\n",
        "print(t1)"
      ],
      "metadata": {
        "colab": {
          "base_uri": "https://localhost:8080/"
        },
        "id": "-vb4P9wJE_xS",
        "outputId": "79dac8af-92f0-4d84-b098-d59029504ede"
      },
      "execution_count": null,
      "outputs": [
        {
          "output_type": "stream",
          "name": "stdout",
          "text": [
            "tensor([[1.0000, 1.0000, 1.0000, 1.0000, 0.8047, 0.4458, 0.8981, 0.3148],\n",
            "        [1.0000, 1.0000, 1.0000, 1.0000, 0.0108, 0.3744, 0.2060, 0.4768],\n",
            "        [1.0000, 1.0000, 1.0000, 1.0000, 0.6677, 0.4978, 0.8912, 0.7996],\n",
            "        [1.0000, 1.0000, 1.0000, 1.0000, 0.3779, 0.2252, 0.2898, 0.5413]],\n",
            "       device='cuda:0')\n"
          ]
        }
      ]
    },
    {
      "cell_type": "code",
      "source": [
        "t = torch.ones(5)\n",
        "n = t.numpy()\n",
        "print(f\"numpy\\n: {n}\")"
      ],
      "metadata": {
        "colab": {
          "base_uri": "https://localhost:8080/"
        },
        "id": "BFSJ8DJ0Zu1_",
        "outputId": "ca59a257-1a40-451d-9ab4-ab5190008aa3"
      },
      "execution_count": null,
      "outputs": [
        {
          "output_type": "stream",
          "name": "stdout",
          "text": [
            "numpy\n",
            ": [1. 1. 1. 1. 1.]\n"
          ]
        }
      ]
    },
    {
      "cell_type": "markdown",
      "source": [
        "# New section"
      ],
      "metadata": {
        "id": "wZmKAMXlvsds"
      }
    }
  ]
}